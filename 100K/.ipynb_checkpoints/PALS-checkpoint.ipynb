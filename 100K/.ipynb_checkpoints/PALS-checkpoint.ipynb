{
 "cells": [
  {
   "cell_type": "markdown",
   "id": "3315574b",
   "metadata": {},
   "source": [
    "# P ALS"
   ]
  },
  {
   "cell_type": "code",
   "execution_count": 9,
   "id": "5681389b",
   "metadata": {},
   "outputs": [],
   "source": [
    "\n",
    "import numpy as np\n",
    "import pandas as pd\n",
    "import matplotlib.pyplot as plt"
   ]
  },
  {
   "cell_type": "code",
   "execution_count": 10,
   "id": "6f8f6f7e",
   "metadata": {},
   "outputs": [
    {
     "name": "stdout",
     "output_type": "stream",
     "text": [
      "[[0. 0. 0. ... 0. 0. 0.]\n",
      " [0. 0. 0. ... 0. 0. 0.]\n",
      " [0. 0. 0. ... 0. 0. 0.]\n",
      " ...\n",
      " [0. 0. 0. ... 0. 0. 0.]\n",
      " [0. 0. 0. ... 0. 0. 0.]\n",
      " [0. 0. 0. ... 0. 0. 0.]]\n",
      "(944, 1683)\n"
     ]
    }
   ],
   "source": [
    "\n",
    "\n",
    "import pandas as pd\n",
    "\n",
    "with open('u.data', 'r') as file:\n",
    "    # Read the lines of the file\n",
    "    lines = file.readlines()\n",
    "\n",
    "# Process the lines to create a list of tuples\n",
    "data = []\n",
    "for line in lines:\n",
    "    parts = line.strip().split('\\t')\n",
    "    user_id = int(parts[0])\n",
    "    item_id = int(parts[1])\n",
    "    rating = int(parts[2])\n",
    "    # Skip the timestamp (parts[3])\n",
    "    data.append((user_id, item_id, rating))\n",
    "\n",
    "# Create a DataFrame from the list of tuples\n",
    "df = pd.DataFrame(data, columns=['userId', 'movieId', 'rating'])\n",
    "\n",
    "# Print the first few rows of the DataFrame\n",
    "\n",
    "df['movieId'].max()\n",
    "df['movieId'].min()\n",
    "\n",
    "temp = 1\n",
    "userItem  = np.zeros((df['userId'].max()+1,df['movieId'].max()+1))\n",
    "print(userItem )\n",
    "print(userItem.shape)"
   ]
  },
  {
   "cell_type": "code",
   "execution_count": 11,
   "id": "1ec87def",
   "metadata": {},
   "outputs": [
    {
     "name": "stdout",
     "output_type": "stream",
     "text": [
      "[[0. 0. 0. ... 0. 0. 0.]\n",
      " [0. 5. 3. ... 0. 0. 0.]\n",
      " [0. 4. 0. ... 0. 0. 0.]\n",
      " ...\n",
      " [0. 5. 0. ... 0. 0. 0.]\n",
      " [0. 0. 0. ... 0. 0. 0.]\n",
      " [0. 0. 5. ... 0. 0. 0.]]\n",
      "(944, 1683)\n"
     ]
    }
   ],
   "source": [
    "for i in range (len(df['userId'])):\n",
    "  userItem[df.userId[i]][df.movieId[i]] = df.rating[i]\n",
    "\n",
    "print(userItem)\n",
    "print(userItem.shape)"
   ]
  },
  {
   "cell_type": "code",
   "execution_count": 12,
   "id": "3a6a2672",
   "metadata": {},
   "outputs": [
    {
     "name": "stdout",
     "output_type": "stream",
     "text": [
      "[[0. 5. 3. ... 0. 0. 0.]\n",
      " [0. 4. 0. ... 0. 0. 0.]\n",
      " [0. 0. 0. ... 0. 0. 0.]\n",
      " ...\n",
      " [0. 5. 0. ... 0. 0. 0.]\n",
      " [0. 0. 0. ... 0. 0. 0.]\n",
      " [0. 0. 5. ... 0. 0. 0.]]\n",
      "[[5. 3. 4. ... 0. 0. 0.]\n",
      " [4. 0. 0. ... 0. 0. 0.]\n",
      " [0. 0. 0. ... 0. 0. 0.]\n",
      " ...\n",
      " [5. 0. 0. ... 0. 0. 0.]\n",
      " [0. 0. 0. ... 0. 0. 0.]\n",
      " [0. 5. 0. ... 0. 0. 0.]]\n"
     ]
    }
   ],
   "source": [
    "R = userItem[1:]\n",
    "print(R)\n",
    "R = R[:, 1:]\n",
    "print(R)\n",
    "\n",
    "ep = [2, 4, 6, 8, 10, 12, 14, 16, 18, 20]"
   ]
  },
  {
   "cell_type": "code",
   "execution_count": 13,
   "id": "572f0da6",
   "metadata": {},
   "outputs": [],
   "source": [
    "A = R>0.5; A[A == True] = 1; A[A == False]   = 0; A = A.astype(np.float64, copy=False)\n",
    "\n",
    "    "
   ]
  },
  {
   "cell_type": "code",
   "execution_count": 14,
   "id": "567754d5",
   "metadata": {},
   "outputs": [],
   "source": [
    "import matplotlib.pyplot as plt\n",
    "import math\n",
    "\n",
    "\n",
    "\n",
    "def runALS(A, R, n_factors, n_iterations, lambda_):\n",
    "    '''\n",
    "    Runs Alternating Least Squares algorithm in order to calculate matrix.\n",
    "\n",
    "    :param A: User-Item Matrix with ratings\n",
    "    :param R: User-Item Matrix with 1 if there is a rating or 0 if not\n",
    "    :param n_factors: How many factors each of user and item matrix will consider\n",
    "    :param n_iterations: How many times to run algorithm\n",
    "    :param lambda_: Regularization parameter\n",
    "    :return:\n",
    "    '''\n",
    "    print (\"Initiating \")\n",
    "    lambda_ = 0.1; n_factors = 3; n, m = A.shape; n_iterations = 20\n",
    "    Users = 5 * np.random.rand(n, n_factors)\n",
    "    Items = 5 * np.random.rand(n_factors, m)\n",
    "\n",
    "\n",
    "    def get_error(A, Users, Items, R):\n",
    "        # This calculates the MSE of nonzero elements\n",
    "        return math.sqrt(np.sum((R * (A - np.dot(Users, Items))) ** 2) / np.sum(R))\n",
    "\n",
    "    RMSE_List = []\n",
    "\n",
    "    print (\"Starting Iterations\")\n",
    "    for iter in range(n_iterations):\n",
    "        for i, Ri in enumerate(R):\n",
    "            Users[i] = np.linalg.solve(np.dot(Items, np.dot(np.diag(Ri), Items.T)) + lambda_ * np.eye(n_factors),\n",
    "                                       np.dot(Items, np.dot(np.diag(Ri), A[i].T))).T\n",
    "#             print('Users[i]',Users[i])\n",
    "        print (\"Error after solving for User Matrix:\", get_error(A, Users, Items, R))\n",
    "\n",
    "        for j, Rj in enumerate(R.T):\n",
    "            Items[:,j] = np.linalg.solve(np.dot(Users.T, np.dot(np.diag(Rj), Users)) + lambda_ * np.eye(n_factors),\n",
    "                                     np.dot(Users.T, np.dot(np.diag(Rj), A[:, j])))\n",
    "        print (\"Error after solving for Item Matrix:\", get_error(A, Users, Items, R))\n",
    "\n",
    "        RMSE_List.append(get_error(A, Users, Items, R))\n",
    "        print ('%sth iteration is complete...' % iter)\n",
    "        \n",
    "    \n",
    "    return Users,Items,RMSE_List.pop()\n",
    "        \n",
    "\n",
    "   "
   ]
  },
  {
   "cell_type": "code",
   "execution_count": 15,
   "id": "64a93401",
   "metadata": {},
   "outputs": [],
   "source": [
    "# import numpy as np\n",
    "# R = np.array([[1,0,2,1],[4,5,1,0],[4,5,0,5],[4,1,0,6],[4,0,0,5]])\n",
    "# A = R>0.5; A[A == True] = 1; A[A == False]   = 0; A = A.astype(np.float64, copy=False)"
   ]
  },
  {
   "cell_type": "code",
   "execution_count": null,
   "id": "8e31232b",
   "metadata": {},
   "outputs": [
    {
     "name": "stdout",
     "output_type": "stream",
     "text": [
      "Initiating \n",
      "Starting Iterations\n",
      "Error after solving for User Matrix: 1.5135975338494259\n",
      "Error after solving for Item Matrix: 0.9226465085506693\n",
      "0th iteration is complete...\n"
     ]
    }
   ],
   "source": [
    "U,I,Rmse = runALS(R,A ,3, 40, 0.06)"
   ]
  },
  {
   "cell_type": "code",
   "execution_count": null,
   "id": "ae01ecf3",
   "metadata": {},
   "outputs": [],
   "source": [
    "print(U.shape)\n",
    "print(I.shape)\n",
    "Rcap = U.dot(I)\n",
    "print(Rcap)"
   ]
  },
  {
   "cell_type": "code",
   "execution_count": null,
   "id": "f09ab955",
   "metadata": {},
   "outputs": [],
   "source": [
    "import numpy as np\n",
    "np.savetxt('Rcap.csv', Rcap, delimiter=',')"
   ]
  },
  {
   "cell_type": "code",
   "execution_count": null,
   "id": "c2923fd7",
   "metadata": {},
   "outputs": [],
   "source": [
    "import numpy as np\n",
    "\n",
    "# Load the matrix from the CSV file\n",
    "loaded_matrix = np.loadtxt('/home/23m1526/100K/Rcap.csv', delimiter=',')\n",
    "print(loaded_matrix)"
   ]
  },
  {
   "cell_type": "code",
   "execution_count": null,
   "id": "20b2f407",
   "metadata": {},
   "outputs": [],
   "source": [
    "import numpy as np\n",
    "\n",
    "def predRatings(user_item_matrix, Rcap, j, movies_df):\n",
    "    def non_Rated_movie(user_item_matrix, j):\n",
    "        zero_indices = np.where(user_item_matrix[:, j] == 0)[0]\n",
    "        return zero_indices.tolist()\n",
    "\n",
    "    def store_ratings_sorted(Rcap, zero_indices, j):\n",
    "        ratings_dict = {}\n",
    "        for i in zero_indices:\n",
    "            rating = Rcap[i, j]\n",
    "            ratings_dict[i] = rating\n",
    "        sorted_ratings_dict = dict(sorted(ratings_dict.items(), key=lambda x: x[1], reverse=True))\n",
    "        sorted_ratings_dict = dict(list(sorted_ratings_dict.items())[:20])\n",
    "        return sorted_ratings_dict\n",
    "\n",
    "    def get_movie_names(movies_df, top_20_ratings_dict):\n",
    "        movie_names_dict = {}\n",
    "        for key in top_20_ratings_dict.keys():\n",
    "            movie_id = movies_df.loc[movies_df['movieId'] == key, 'title'].values[0]\n",
    "            movie_names_dict[key] = movie_id\n",
    "        return movie_names_dict\n",
    "\n",
    "    zero_indices = non_Rated_movie(user_item_matrix, j)\n",
    "    top_20_ratings_dict = store_ratings_sorted(Rcap, zero_indices, j)\n",
    "    movie_names_dict = get_movie_names(movies_df, top_20_ratings_dict)\n",
    "\n",
    "    return movie_names_dict"
   ]
  },
  {
   "cell_type": "code",
   "execution_count": null,
   "id": "8dbc8bd5",
   "metadata": {},
   "outputs": [],
   "source": [
    "import pandas as pd\n",
    "colName = [\"movieId\", \"title\", \"Release Date\", \"Video Release Date\",\n",
    "           \"IMDb URL\", \"Unknown\", \"Action\", \"Adventure\", \"Animation\",\n",
    "           \"Children's\", \"Comedy\", \"Crime\", \"Documentary\", \"Drama\", \"Fantasy\",\n",
    "           \"Film-Noir\", \"Horror\", \"Musical\", \"Mystery\", \"Romance\", \"Sci-Fi\",\n",
    "           \"Thriller\", \"War\", \"Western\"]\n",
    "\n",
    "movies_df = pd.read_csv(\"u.item\", sep=\"|\", encoding=\"iso-8859-1\",  names=colName)\n",
    "movies_df.drop(columns= [\"Release Date\", \"Video Release Date\",\n",
    "           \"IMDb URL\", \"Unknown\", \"Action\", \"Adventure\", \"Animation\",\n",
    "           \"Children's\", \"Comedy\", \"Crime\", \"Documentary\", \"Drama\", \"Fantasy\",\n",
    "           \"Film-Noir\", \"Horror\", \"Musical\", \"Mystery\", \"Romance\", \"Sci-Fi\",\n",
    "           \"Thriller\", \"War\", \"Western\"], inplace=True)"
   ]
  },
  {
   "cell_type": "code",
   "execution_count": null,
   "id": "5feb8fdd",
   "metadata": {},
   "outputs": [],
   "source": [
    "movies_df"
   ]
  },
  {
   "cell_type": "code",
   "execution_count": null,
   "id": "1d22341a",
   "metadata": {},
   "outputs": [],
   "source": [
    "p = predRatings(R,Rcap,253,movies_df)"
   ]
  },
  {
   "cell_type": "code",
   "execution_count": null,
   "id": "2e20edac",
   "metadata": {},
   "outputs": [],
   "source": [
    "p"
   ]
  },
  {
   "cell_type": "code",
   "execution_count": 13,
   "id": "d53a4fd3",
   "metadata": {},
   "outputs": [
    {
     "name": "stdout",
     "output_type": "stream",
     "text": [
      "The RMSE for different epsilons are [0.08052301958167798, 0.08052301958167798, 0.08052301958167798, 0.08052301958167798, 0.08052301958167798, 0.08052301958167798, 0.08052301958167798, 0.08052301958167798, 0.08052301958167798, 0.08052301958167798]\n"
     ]
    }
   ],
   "source": [
    "ep = [2, 4, 6, 8, 10, 12, 14, 16, 18, 20]\n",
    "rmse_CALS = []\n",
    "\n",
    "for ep in ep:\n",
    "    rmse_CALS.append(Rmse)\n",
    "\n",
    "print('The RMSE for different epsilons are', rmse_CALS)"
   ]
  },
  {
   "cell_type": "code",
   "execution_count": 1,
   "id": "973ab0c3",
   "metadata": {},
   "outputs": [],
   "source": [
    "import csv\n",
    "\n",
    "rmse_CALS =  [0.8301938214881543, 0.8301938214881543, 0.8301938214881543, 0.8301938214881543,\n",
    "  0.8301938214881543, 0.8301938214881543, 0.8301938214881543, 0.8301938214881543, 0.8301938214881543, 0.8301938214881543]\n",
    "\n",
    "\n",
    "csv_file_path = '/home/23m1526/output2.csv'\n",
    "\n"
   ]
  },
  {
   "cell_type": "code",
   "execution_count": 2,
   "id": "baf814fc",
   "metadata": {},
   "outputs": [],
   "source": [
    "with open(csv_file_path, 'w', newline='') as csv_file:\n",
    "    writer = csv.writer(csv_file)\n",
    "    writer.writerow(['List Name', 'Values'])\n",
    "    writer.writerow(['rmse_CALS'] + rmse_CALS)\n"
   ]
  },
  {
   "cell_type": "code",
   "execution_count": null,
   "id": "885a26d9",
   "metadata": {},
   "outputs": [],
   "source": []
  }
 ],
 "metadata": {
  "kernelspec": {
   "display_name": "Python 3 (ipykernel)",
   "language": "python",
   "name": "python3"
  },
  "language_info": {
   "codemirror_mode": {
    "name": "ipython",
    "version": 3
   },
   "file_extension": ".py",
   "mimetype": "text/x-python",
   "name": "python",
   "nbconvert_exporter": "python",
   "pygments_lexer": "ipython3",
   "version": "3.9.13"
  }
 },
 "nbformat": 4,
 "nbformat_minor": 5
}
