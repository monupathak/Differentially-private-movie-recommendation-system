{
 "cells": [
  {
   "cell_type": "markdown",
   "id": "3315574b",
   "metadata": {},
   "source": [
    "# Clean ALS"
   ]
  },
  {
   "cell_type": "code",
   "execution_count": 4,
   "id": "5681389b",
   "metadata": {},
   "outputs": [],
   "source": [
    "\n",
    "import numpy as np\n",
    "import pandas as pd\n",
    "import matplotlib.pyplot as plt"
   ]
  },
  {
   "cell_type": "code",
   "execution_count": 5,
   "id": "6f8f6f7e",
   "metadata": {},
   "outputs": [
    {
     "name": "stdout",
     "output_type": "stream",
     "text": [
      "[[0. 0. 0. ... 0. 0. 0.]\n",
      " [0. 0. 0. ... 0. 0. 0.]\n",
      " [0. 0. 0. ... 0. 0. 0.]\n",
      " ...\n",
      " [0. 0. 0. ... 0. 0. 0.]\n",
      " [0. 0. 0. ... 0. 0. 0.]\n",
      " [0. 0. 0. ... 0. 0. 0.]]\n",
      "(944, 1683)\n"
     ]
    }
   ],
   "source": [
    "\n",
    "\n",
    "import pandas as pd\n",
    "\n",
    "with open('ua.base', 'r') as file:\n",
    "    # Read the lines of the file\n",
    "    lines = file.readlines()\n",
    "\n",
    "# Process the lines to create a list of tuples\n",
    "data = []\n",
    "for line in lines:\n",
    "    parts = line.strip().split('\\t')\n",
    "    user_id = int(parts[0])\n",
    "    item_id = int(parts[1])\n",
    "    rating = int(parts[2])\n",
    "    # Skip the timestamp (parts[3])\n",
    "    data.append((user_id, item_id, rating))\n",
    "\n",
    "# Create a DataFrame from the list of tuples\n",
    "df = pd.DataFrame(data, columns=['userId', 'movieId', 'rating'])\n",
    "\n",
    "# Print the first few rows of the DataFrame\n",
    "\n",
    "df['movieId'].max()\n",
    "df['movieId'].min()\n",
    "\n",
    "temp = 1\n",
    "userItem  = np.zeros((df['userId'].max()+1,df['movieId'].max()+1))\n",
    "print(userItem )\n",
    "print(userItem.shape)"
   ]
  },
  {
   "cell_type": "code",
   "execution_count": 6,
   "id": "1ec87def",
   "metadata": {},
   "outputs": [
    {
     "name": "stdout",
     "output_type": "stream",
     "text": [
      "[[0. 0. 0. ... 0. 0. 0.]\n",
      " [0. 5. 3. ... 0. 0. 0.]\n",
      " [0. 4. 0. ... 0. 0. 0.]\n",
      " ...\n",
      " [0. 5. 0. ... 0. 0. 0.]\n",
      " [0. 0. 0. ... 0. 0. 0.]\n",
      " [0. 0. 5. ... 0. 0. 0.]]\n",
      "(944, 1683)\n"
     ]
    }
   ],
   "source": [
    "for i in range (len(df['userId'])):\n",
    "  userItem[df.userId[i]][df.movieId[i]] = df.rating[i]\n",
    "\n",
    "print(userItem)\n",
    "print(userItem.shape)"
   ]
  },
  {
   "cell_type": "code",
   "execution_count": 7,
   "id": "3a6a2672",
   "metadata": {},
   "outputs": [
    {
     "name": "stdout",
     "output_type": "stream",
     "text": [
      "[[0. 5. 3. ... 0. 0. 0.]\n",
      " [0. 4. 0. ... 0. 0. 0.]\n",
      " [0. 0. 0. ... 0. 0. 0.]\n",
      " ...\n",
      " [0. 5. 0. ... 0. 0. 0.]\n",
      " [0. 0. 0. ... 0. 0. 0.]\n",
      " [0. 0. 5. ... 0. 0. 0.]]\n",
      "[[5. 3. 4. ... 0. 0. 0.]\n",
      " [4. 0. 0. ... 0. 0. 0.]\n",
      " [0. 0. 0. ... 0. 0. 0.]\n",
      " ...\n",
      " [5. 0. 0. ... 0. 0. 0.]\n",
      " [0. 0. 0. ... 0. 0. 0.]\n",
      " [0. 5. 0. ... 0. 0. 0.]]\n"
     ]
    }
   ],
   "source": [
    "R = userItem[1:]\n",
    "print(R)\n",
    "R = R[:, 1:]\n",
    "print(R)\n",
    "\n",
    "ep = [2, 4, 6, 8, 10, 12, 14, 16, 18, 20]"
   ]
  },
  {
   "cell_type": "code",
   "execution_count": 8,
   "id": "572f0da6",
   "metadata": {},
   "outputs": [],
   "source": [
    "A = R>0.5; A[A == True] = 1; A[A == False]   = 0; A = A.astype(np.float64, copy=False)\n",
    "\n",
    "    "
   ]
  },
  {
   "cell_type": "code",
   "execution_count": 14,
   "id": "567754d5",
   "metadata": {},
   "outputs": [],
   "source": [
    "import matplotlib.pyplot as plt\n",
    "import math\n",
    "\n",
    "\n",
    "\n",
    "def runALS(A, R, n_factors, n_iterations, lambda_):\n",
    "    '''\n",
    "    Runs Alternating Least Squares algorithm in order to calculate matrix.\n",
    "\n",
    "    :param A: User-Item Matrix with ratings\n",
    "    :param R: User-Item Matrix with 1 if there is a rating or 0 if not\n",
    "    :param n_factors: How many factors each of user and item matrix will consider\n",
    "    :param n_iterations: How many times to run algorithm\n",
    "    :param lambda_: Regularization parameter\n",
    "    :return:\n",
    "    '''\n",
    "    print (\"Initiating \")\n",
    "    lambda_ = 0.1; n_factors = 3; n, m = A.shape; n_iterations = 20\n",
    "    Users = 5 * np.random.rand(n, n_factors)\n",
    "    Items = 5 * np.random.rand(n_factors, m)\n",
    "\n",
    "\n",
    "    def get_error(A, Users, Items, R):\n",
    "        # This calculates the MSE of nonzero elements\n",
    "        return math.sqrt(np.sum((R * (A - np.dot(Users, Items))) ** 2) / np.sum(R))\n",
    "\n",
    "    RMSE_List = []\n",
    "\n",
    "    print (\"Starting Iterations\")\n",
    "    for iter in range(n_iterations):\n",
    "        for i, Ri in enumerate(R):\n",
    "            Users[i] = np.linalg.solve(np.dot(Items, np.dot(np.diag(Ri), Items.T)) + lambda_ * np.eye(n_factors),\n",
    "                                       np.dot(Items, np.dot(np.diag(Ri), A[i].T))).T\n",
    "        print (\"Error after solving for User Matrix:\", get_error(A, Users, Items, R))\n",
    "\n",
    "        for j, Rj in enumerate(R.T):\n",
    "            Items[:,j] = np.linalg.solve(np.dot(Users.T, np.dot(np.diag(Rj), Users)) + lambda_ * np.eye(n_factors),\n",
    "                                     np.dot(Users.T, np.dot(np.diag(Rj), A[:, j])))\n",
    "        print (\"Error after solving for Item Matrix:\", get_error(A, Users, Items, R))\n",
    "\n",
    "        RMSE_List.append(get_error(A, Users, Items, R))\n",
    "        print ('%sth iteration is complete...' % iter)\n",
    "        \n",
    "    \n",
    "    return RMSE_List.pop()\n",
    "        \n",
    "\n",
    "   "
   ]
  },
  {
   "cell_type": "code",
   "execution_count": 16,
   "id": "8e31232b",
   "metadata": {},
   "outputs": [
    {
     "name": "stdout",
     "output_type": "stream",
     "text": [
      "Initiating \n",
      "Starting Iterations\n",
      "Error after solving for User Matrix: 1.524108338124078\n",
      "Error after solving for Item Matrix: 0.9220765183792169\n",
      "0th iteration is complete...\n",
      "Error after solving for User Matrix: 0.883301584047534\n",
      "Error after solving for Item Matrix: 0.8695120006335922\n",
      "1th iteration is complete...\n",
      "Error after solving for User Matrix: 0.8601870009026875\n",
      "Error after solving for Item Matrix: 0.8538596045869479\n",
      "2th iteration is complete...\n",
      "Error after solving for User Matrix: 0.8485676306624078\n",
      "Error after solving for Item Matrix: 0.8451065335788244\n",
      "3th iteration is complete...\n",
      "Error after solving for User Matrix: 0.8420801025883644\n",
      "Error after solving for Item Matrix: 0.8401757500547201\n",
      "4th iteration is complete...\n",
      "Error after solving for User Matrix: 0.8383425151711985\n",
      "Error after solving for Item Matrix: 0.8372692228345617\n",
      "5th iteration is complete...\n",
      "Error after solving for User Matrix: 0.836077024022168\n",
      "Error after solving for Item Matrix: 0.8354341254744503\n",
      "6th iteration is complete...\n",
      "Error after solving for User Matrix: 0.8346323938539434\n",
      "Error after solving for Item Matrix: 0.8342920222315073\n",
      "7th iteration is complete...\n",
      "Error after solving for User Matrix: 0.8337285961621319\n",
      "Error after solving for Item Matrix: 0.833531767347005\n",
      "8th iteration is complete...\n",
      "Error after solving for User Matrix: 0.8330832876617396\n",
      "Error after solving for Item Matrix: 0.8329592762777748\n",
      "9th iteration is complete...\n",
      "Error after solving for User Matrix: 0.8325727914856186\n",
      "Error after solving for Item Matrix: 0.8324783168553229\n",
      "10th iteration is complete...\n",
      "Error after solving for User Matrix: 0.8321372582608054\n",
      "Error after solving for Item Matrix: 0.8320765919485813\n",
      "11th iteration is complete...\n",
      "Error after solving for User Matrix: 0.8317779847514069\n",
      "Error after solving for Item Matrix: 0.8317367129499524\n",
      "12th iteration is complete...\n",
      "Error after solving for User Matrix: 0.8314628293302488\n",
      "Error after solving for Item Matrix: 0.8314279319695141\n",
      "13th iteration is complete...\n",
      "Error after solving for User Matrix: 0.8311743796122307\n",
      "Error after solving for Item Matrix: 0.8311543799053162\n",
      "14th iteration is complete...\n",
      "Error after solving for User Matrix: 0.8309286318197933\n",
      "Error after solving for Item Matrix: 0.8309205363904133\n",
      "15th iteration is complete...\n",
      "Error after solving for User Matrix: 0.8307151649741303\n",
      "Error after solving for Item Matrix: 0.8307123127549879\n",
      "16th iteration is complete...\n",
      "Error after solving for User Matrix: 0.8305221729627266\n",
      "Error after solving for Item Matrix: 0.8305219787347115\n",
      "17th iteration is complete...\n",
      "Error after solving for User Matrix: 0.8303454290791141\n",
      "Error after solving for Item Matrix: 0.8303484658835313\n",
      "18th iteration is complete...\n",
      "Error after solving for User Matrix: 0.8301853024661163\n",
      "Error after solving for Item Matrix: 0.8301938214881543\n",
      "19th iteration is complete...\n"
     ]
    }
   ],
   "source": [
    "Rmse = runALS(R,A ,3, 40, 0.06)"
   ]
  },
  {
   "cell_type": "code",
   "execution_count": 17,
   "id": "d53a4fd3",
   "metadata": {},
   "outputs": [
    {
     "name": "stdout",
     "output_type": "stream",
     "text": [
      "The RMSE for different epsilons are [0.8301938214881543, 0.8301938214881543, 0.8301938214881543, 0.8301938214881543, 0.8301938214881543, 0.8301938214881543, 0.8301938214881543, 0.8301938214881543, 0.8301938214881543, 0.8301938214881543]\n"
     ]
    }
   ],
   "source": [
    "ep = [2, 4, 6, 8, 10, 12, 14, 16, 18, 20]\n",
    "rmse_CALS = []\n",
    "\n",
    "for ep in ep:\n",
    "    rmse_CALS.append(Rmse)\n",
    "\n",
    "print('The RMSE for different epsilons are', rmse_CALS)"
   ]
  },
  {
   "cell_type": "code",
   "execution_count": 1,
   "id": "973ab0c3",
   "metadata": {},
   "outputs": [],
   "source": [
    "import csv\n",
    "\n",
    "rmse_CALS =  [0.8301938214881543, 0.8301938214881543, 0.8301938214881543, 0.8301938214881543,\n",
    "  0.8301938214881543, 0.8301938214881543, 0.8301938214881543, 0.8301938214881543, 0.8301938214881543, 0.8301938214881543]\n",
    "\n",
    "\n",
    "csv_file_path = '/home/23m1526/output2.csv'\n",
    "\n"
   ]
  },
  {
   "cell_type": "code",
   "execution_count": 2,
   "id": "baf814fc",
   "metadata": {},
   "outputs": [],
   "source": [
    "with open(csv_file_path, 'w', newline='') as csv_file:\n",
    "    writer = csv.writer(csv_file)\n",
    "    writer.writerow(['List Name', 'Values'])\n",
    "    writer.writerow(['rmse_CALS'] + rmse_CALS)\n"
   ]
  },
  {
   "cell_type": "code",
   "execution_count": null,
   "id": "885a26d9",
   "metadata": {},
   "outputs": [],
   "source": []
  }
 ],
 "metadata": {
  "kernelspec": {
   "display_name": "Python 3 (ipykernel)",
   "language": "python",
   "name": "python3"
  },
  "language_info": {
   "codemirror_mode": {
    "name": "ipython",
    "version": 3
   },
   "file_extension": ".py",
   "mimetype": "text/x-python",
   "name": "python",
   "nbconvert_exporter": "python",
   "pygments_lexer": "ipython3",
   "version": "3.9.13"
  }
 },
 "nbformat": 4,
 "nbformat_minor": 5
}
