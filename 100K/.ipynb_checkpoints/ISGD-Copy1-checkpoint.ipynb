{
 "cells": [
  {
   "cell_type": "markdown",
   "id": "be611a56",
   "metadata": {},
   "source": [
    "# Input Perterbation"
   ]
  },
  {
   "cell_type": "code",
   "execution_count": 4,
   "id": "2dfac51d",
   "metadata": {},
   "outputs": [
    {
     "name": "stdout",
     "output_type": "stream",
     "text": [
      "[[0. 0. 0. ... 0. 0. 0.]\n",
      " [0. 0. 0. ... 0. 0. 0.]\n",
      " [0. 0. 0. ... 0. 0. 0.]\n",
      " ...\n",
      " [0. 0. 0. ... 0. 0. 0.]\n",
      " [0. 0. 0. ... 0. 0. 0.]\n",
      " [0. 0. 0. ... 0. 0. 0.]]\n",
      "(944, 1683)\n"
     ]
    }
   ],
   "source": [
    "\n",
    "import numpy as np\n",
    "import pandas as pd\n",
    "import matplotlib.pyplot as plt\n",
    "\n",
    "\n",
    "\n",
    "\n",
    "import pandas as pd\n",
    "\n",
    "with open('ua.base', 'r') as file:\n",
    "    # Read the lines of the file\n",
    "    lines = file.readlines()\n",
    "\n",
    "# Process the lines to create a list of tuples\n",
    "data = []\n",
    "for line in lines:\n",
    "    parts = line.strip().split('\\t')\n",
    "    user_id = int(parts[0])\n",
    "    item_id = int(parts[1])\n",
    "    rating = int(parts[2])\n",
    "    # Skip the timestamp (parts[3])\n",
    "    data.append((user_id, item_id, rating))\n",
    "\n",
    "# Create a DataFrame from the list of tuples\n",
    "df = pd.DataFrame(data, columns=['userId', 'movieId', 'rating'])\n",
    "\n",
    "# Print the first few rows of the DataFrame\n",
    "\n",
    "df['movieId'].max()\n",
    "df['movieId'].min()\n",
    "\n",
    "temp = 1\n",
    "userItem  = np.zeros((df['userId'].max()+1,df['movieId'].max()+1))\n",
    "print(userItem )\n",
    "print(userItem.shape)"
   ]
  },
  {
   "cell_type": "code",
   "execution_count": 5,
   "id": "dfa2572e",
   "metadata": {},
   "outputs": [
    {
     "name": "stdout",
     "output_type": "stream",
     "text": [
      "[[0. 0. 0. ... 0. 0. 0.]\n",
      " [0. 5. 3. ... 0. 0. 0.]\n",
      " [0. 4. 0. ... 0. 0. 0.]\n",
      " ...\n",
      " [0. 5. 0. ... 0. 0. 0.]\n",
      " [0. 0. 0. ... 0. 0. 0.]\n",
      " [0. 0. 5. ... 0. 0. 0.]]\n",
      "(944, 1683)\n"
     ]
    }
   ],
   "source": [
    "for i in range (len(df['userId'])):\n",
    "  userItem[df.userId[i]][df.movieId[i]] = df.rating[i]\n",
    "\n",
    "print(userItem)\n",
    "print(userItem.shape)"
   ]
  },
  {
   "cell_type": "code",
   "execution_count": 6,
   "id": "dd036888",
   "metadata": {},
   "outputs": [
    {
     "name": "stdout",
     "output_type": "stream",
     "text": [
      "[[0. 5. 3. ... 0. 0. 0.]\n",
      " [0. 4. 0. ... 0. 0. 0.]\n",
      " [0. 0. 0. ... 0. 0. 0.]\n",
      " ...\n",
      " [0. 5. 0. ... 0. 0. 0.]\n",
      " [0. 0. 0. ... 0. 0. 0.]\n",
      " [0. 0. 5. ... 0. 0. 0.]]\n",
      "[[5. 3. 4. ... 0. 0. 0.]\n",
      " [4. 0. 0. ... 0. 0. 0.]\n",
      " [0. 0. 0. ... 0. 0. 0.]\n",
      " ...\n",
      " [5. 0. 0. ... 0. 0. 0.]\n",
      " [0. 0. 0. ... 0. 0. 0.]\n",
      " [0. 5. 0. ... 0. 0. 0.]]\n"
     ]
    }
   ],
   "source": [
    "R = userItem[1:]\n",
    "print(R)\n",
    "R = R[:, 1:]\n",
    "print(R)\n",
    "\n",
    "ep = [2, 4, 6, 8, 10, 12, 14, 16, 18, 20]"
   ]
  },
  {
   "cell_type": "code",
   "execution_count": 16,
   "id": "97c7680f",
   "metadata": {},
   "outputs": [],
   "source": [
    "A = R>0.5; A[A == True] = 1; A[A == False]   = 0; A = A.astype(np.float64, copy=False)\n"
   ]
  },
  {
   "cell_type": "code",
   "execution_count": 26,
   "id": "00ca2d37",
   "metadata": {},
   "outputs": [],
   "source": [
    "def input_perterbation_sgd(R,A, d, gamma, lambd, epsilon):\n",
    "    k = 50\n",
    "    num_users, num_items = R.shape\n",
    "    P = np.random.rand(num_users, d)\n",
    "    Q = np.random.rand(num_items, d)\n",
    "    R1 = R + np.random.laplace(scale=(4) / epsilon, size=R.shape)\n",
    "    R0 = np.zeros((R.shape))\n",
    "    B =3\n",
    "    for i in range(R.shape[0]):\n",
    "        for j in range (R.shape[1]): \n",
    "            if A[i,j] != 0: R0[i,j ] = R1[i,j]\n",
    "\n",
    "    \n",
    "    R0 = np.clip(R0, -B, B)\n",
    "    # Assuming R is a numpy array, find non-zero (i.e., rated) entries\n",
    "    rated_indices = np.argwhere(R > 0)\n",
    "\n",
    "    for epoch in range(k):\n",
    "        np.random.shuffle(rated_indices)  # Shuffle the observed ratings\n",
    "        for i, j in rated_indices:\n",
    "            e_ui = R[i, j] - np.dot(P[i], Q[j]) \n",
    "       \n",
    "\n",
    "            # Update rule remains the same, but only applied to observed ratings\n",
    "            P[i] += gamma * (e_ui * Q[j] - lambd * P[i])\n",
    "            Q[j] += gamma * (e_ui * P[i] - lambd * Q[j])\n",
    "\n",
    "    return P, Q , P.dot(Q.T)\n"
   ]
  },
  {
   "cell_type": "code",
   "execution_count": 18,
   "id": "37d14d80",
   "metadata": {},
   "outputs": [],
   "source": [
    "p,q = input_perterbation_sgd(R,A, 3,0.01,0.6,  epsilon = 2  )"
   ]
  },
  {
   "cell_type": "code",
   "execution_count": 24,
   "id": "569328a1",
   "metadata": {},
   "outputs": [
    {
     "name": "stdout",
     "output_type": "stream",
     "text": [
      "[[3.24148069 2.755752   2.58690929 ... 1.56275807 2.59891697 2.45790424]\n",
      " [3.39235033 2.88401213 2.70731602 ... 1.63456665 2.72069755 2.57350531]\n",
      " [2.68354203 2.2814171  2.1416417  ... 1.29280829 2.15242854 2.03608814]\n",
      " ...\n",
      " [3.45249414 2.93514568 2.75530953 ... 1.66442624 2.76781877 2.61709932]\n",
      " [3.65775141 3.1096441  2.91912271 ... 1.76286219 2.9333022  2.77461298]\n",
      " [3.25984308 2.77136192 2.60156549 ... 1.57122627 2.61406164 2.47254506]]\n"
     ]
    }
   ],
   "source": [
    "print(p.dot(q.T))\n",
    "\n",
    "r= p.dot(q.T)\n"
   ]
  },
  {
   "cell_type": "code",
   "execution_count": 25,
   "id": "86cdc985",
   "metadata": {},
   "outputs": [
    {
     "name": "stdout",
     "output_type": "stream",
     "text": [
      "1.0968061661912412\n"
     ]
    }
   ],
   "source": [
    "import math\n",
    "def RMSE(actual, predicted):\n",
    "    err = 0\n",
    "    \n",
    "    count = np.count_nonzero(actual)\n",
    "    for i in range(actual.shape[0]):\n",
    "        for j in range(actual.shape[1]):\n",
    "            if actual[i][j] > 0:\n",
    "                \n",
    "                err += (actual[i][j] - predicted[i][j])**2\n",
    "    \n",
    "    if count == 0: \"error is not calculated therefore count = 0 \"\n",
    "    else : \n",
    "        mse = err/count\n",
    "    rmse = math.sqrt(mse)\n",
    "    \n",
    "    return  rmse\n",
    "    \n",
    "l =RMSE(R,r) \n",
    "print(l)"
   ]
  },
  {
   "cell_type": "code",
   "execution_count": 37,
   "id": "2473795b",
   "metadata": {},
   "outputs": [],
   "source": [
    "ISGD_Rmse = []\n",
    "ep = [2, 4, 6, 8, 10, 12, 14, 16, 18, 20]\n",
    "for _ in (ep):\n",
    "\n",
    "    p,q , r = input_perterbation_sgd(R,A, 3,0.01,0.3,  epsilon = _  )\n",
    "\n",
    "    temp = RMSE(R,r)\n",
    "    ISGD_Rmse.append(temp)"
   ]
  },
  {
   "cell_type": "code",
   "execution_count": null,
   "id": "98ceaaa9",
   "metadata": {},
   "outputs": [],
   "source": []
  },
  {
   "cell_type": "code",
   "execution_count": 38,
   "id": "4394d0b1",
   "metadata": {},
   "outputs": [
    {
     "name": "stdout",
     "output_type": "stream",
     "text": [
      "[0.9699181823985162, 0.9703882077044553, 0.9660848300554666, 0.9710855341136666, 0.9712712229249982, 0.9672139675597393, 0.9700329480374184, 0.9702701381382745, 0.9659381463475186, 0.9685991747796134]\n"
     ]
    }
   ],
   "source": [
    "print(ISGD_Rmse)"
   ]
  },
  {
   "cell_type": "code",
   "execution_count": 39,
   "id": "a9a4969e",
   "metadata": {},
   "outputs": [],
   "source": [
    "import csv\n",
    "\n",
    "\n",
    "\n",
    "csv_file_path = 'output.csv'\n"
   ]
  },
  {
   "cell_type": "code",
   "execution_count": 42,
   "id": "1c76f094",
   "metadata": {},
   "outputs": [],
   "source": [
    "with open(csv_file_path, 'w', newline='') as csv_file:\n",
    "    writer = csv.writer(csv_file)\n",
    "\n",
    "    writer.writerow(['ISGD_Rmse'] + ISGD_Rmse)"
   ]
  },
  {
   "cell_type": "code",
   "execution_count": null,
   "id": "8210ed4b",
   "metadata": {},
   "outputs": [],
   "source": [
    "\n"
   ]
  },
  {
   "cell_type": "code",
   "execution_count": null,
   "id": "28cb9791",
   "metadata": {},
   "outputs": [],
   "source": []
  },
  {
   "cell_type": "code",
   "execution_count": null,
   "id": "820ac096",
   "metadata": {},
   "outputs": [],
   "source": []
  },
  {
   "cell_type": "code",
   "execution_count": null,
   "id": "ecab33da",
   "metadata": {},
   "outputs": [],
   "source": []
  },
  {
   "cell_type": "code",
   "execution_count": null,
   "id": "67e272be",
   "metadata": {},
   "outputs": [],
   "source": []
  },
  {
   "cell_type": "code",
   "execution_count": null,
   "id": "a37caf07",
   "metadata": {},
   "outputs": [],
   "source": []
  }
 ],
 "metadata": {
  "kernelspec": {
   "display_name": "Python 3 (ipykernel)",
   "language": "python",
   "name": "python3"
  },
  "language_info": {
   "codemirror_mode": {
    "name": "ipython",
    "version": 3
   },
   "file_extension": ".py",
   "mimetype": "text/x-python",
   "name": "python",
   "nbconvert_exporter": "python",
   "pygments_lexer": "ipython3",
   "version": "3.9.13"
  }
 },
 "nbformat": 4,
 "nbformat_minor": 5
}
